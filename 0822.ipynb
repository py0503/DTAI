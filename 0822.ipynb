{
 "cells": [
  {
   "cell_type": "code",
   "execution_count": 1,
   "metadata": {},
   "outputs": [
    {
     "name": "stdout",
     "output_type": "stream",
     "text": [
      "0822\n"
     ]
    }
   ],
   "source": [
    "print(\"0822\")"
   ]
  },
  {
   "cell_type": "code",
   "execution_count": 7,
   "metadata": {},
   "outputs": [
    {
     "name": "stdout",
     "output_type": "stream",
     "text": [
      "9.899999999999997\n"
     ]
    }
   ],
   "source": [
    "#1\n",
    "a = float(input())\n",
    "b = float(input())\n",
    "c = a%b\n",
    "print(c)"
   ]
  },
  {
   "cell_type": "code",
   "execution_count": 9,
   "metadata": {},
   "outputs": [
    {
     "name": "stdout",
     "output_type": "stream",
     "text": [
      "370,371,407,"
     ]
    }
   ],
   "source": [
    "#2\n",
    "a1,b1 = input().split()\n",
    "a = int(a1)\n",
    "b = int(b1)\n",
    "for i in range(a,b+1):\n",
    "    if i>100:\n",
    "        d=[int(t) for t in str(i)]\n",
    "        if d[2]**3+d[1]**3+d[0]**3==i:\n",
    "            print(i,end=\",\")\n",
    "        else:\n",
    "            continue"
   ]
  },
  {
   "cell_type": "code",
   "execution_count": 10,
   "metadata": {},
   "outputs": [
    {
     "name": "stdout",
     "output_type": "stream",
     "text": [
      "t=2.0 b=5.0 h=4.8 area=16.8\n"
     ]
    }
   ],
   "source": [
    "#3\n",
    "t = float(input())\n",
    "b = float(input())\n",
    "h = float(input())\n",
    "a = (t+b)*h/2\n",
    "print('t=%s b=%s h=%s area=%s'%(t,b,h,a))"
   ]
  },
  {
   "cell_type": "code",
   "execution_count": 16,
   "metadata": {},
   "outputs": [
    {
     "name": "stdout",
     "output_type": "stream",
     "text": [
      "park time:4h:29m\n",
      "pay:180 money\n"
     ]
    }
   ],
   "source": [
    "#4\n",
    "m = int(input())\n",
    "a = m//60\n",
    "b = m%60\n",
    "print('park time:',a,'h:',b,'m',sep='')\n",
    "if m<60:\n",
    "    print('pay:20 money',sep='')\n",
    "elif 61<=m<=420:\n",
    "    print('pay:',20+a*40,' money',sep='')\n",
    "elif m>=421:\n",
    "    print('pay:300 money',sep='')"
   ]
  },
  {
   "cell_type": "code",
   "execution_count": 18,
   "metadata": {},
   "outputs": [
    {
     "name": "stdout",
     "output_type": "stream",
     "text": [
      "[3, 4, 5, 6, 7]\n"
     ]
    }
   ],
   "source": [
    "#5\n",
    "a,b,c = map(int,input().split())\n",
    "r = range(a,b,c)\n",
    "print(list(r))"
   ]
  },
  {
   "cell_type": "code",
   "execution_count": 19,
   "metadata": {},
   "outputs": [
    {
     "name": "stdout",
     "output_type": "stream",
     "text": [
      "2000 is leap year\n"
     ]
    }
   ],
   "source": [
    "#6\n",
    "year = int(input())\n",
    "if year%4 == 0:\n",
    "    if year%100 == 0:\n",
    "        if year%400 == 0:\n",
    "            print(f'{year} is leap year')\n",
    "        else:\n",
    "            print(f'{year} is common year')\n",
    "    else:\n",
    "        print(f'{year} is leap year')\n",
    "else:\n",
    "    print(f'{year} is common year')"
   ]
  },
  {
   "cell_type": "code",
   "execution_count": 20,
   "metadata": {},
   "outputs": [
    {
     "name": "stdout",
     "output_type": "stream",
     "text": [
      "120 is error\n"
     ]
    }
   ],
   "source": [
    "#7\n",
    "g = int(input())\n",
    "if 90<=g<=100:\n",
    "    print(g,'is A')\n",
    "elif 80<=g<=89:\n",
    "    print(g,'is B')\n",
    "elif 70<=g<=79:\n",
    "    print(g,'is C')\n",
    "elif 60<=g<=69:\n",
    "    print(g,'is D')\n",
    "elif 0<=g<=59:\n",
    "    print(g,'is E')\n",
    "else:\n",
    "    print(g,'is error')"
   ]
  },
  {
   "cell_type": "code",
   "execution_count": 23,
   "metadata": {},
   "outputs": [
    {
     "name": "stdout",
     "output_type": "stream",
     "text": [
      "15,16,17,18,"
     ]
    }
   ],
   "source": [
    "#8\n",
    "a,b,c = map(int,input().split())\n",
    "for i in range(a,b,c):\n",
    "    print(i,end=\",\")"
   ]
  },
  {
   "cell_type": "code",
   "execution_count": 27,
   "metadata": {},
   "outputs": [
    {
     "name": "stdout",
     "output_type": "stream",
     "text": [
      "*\n",
      "**\n",
      "***\n"
     ]
    }
   ],
   "source": [
    "#9\n",
    "a = int(input())\n",
    "for i in range(1,a+1):\n",
    "    print('*'*i)"
   ]
  },
  {
   "cell_type": "code",
   "execution_count": 28,
   "metadata": {},
   "outputs": [
    {
     "name": "stdout",
     "output_type": "stream",
     "text": [
      "9*1=9 9*2=18 9*3=27 9*4=36 9*5=45 9*6=54 9*7=63 9*8=72 9*9=81 \n"
     ]
    }
   ],
   "source": [
    "#10\n",
    "n = int(input())\n",
    "for i in range(n,10):\n",
    "    for j in range(1,10):\n",
    "        print('%d*%d=%d'%(i,j,i*j),end=\" \")\n",
    "    print()"
   ]
  }
 ],
 "metadata": {
  "kernelspec": {
   "display_name": "Python 3",
   "language": "python",
   "name": "python3"
  },
  "language_info": {
   "codemirror_mode": {
    "name": "ipython",
    "version": 3
   },
   "file_extension": ".py",
   "mimetype": "text/x-python",
   "name": "python",
   "nbconvert_exporter": "python",
   "pygments_lexer": "ipython3",
   "version": "3.12.4"
  }
 },
 "nbformat": 4,
 "nbformat_minor": 2
}
