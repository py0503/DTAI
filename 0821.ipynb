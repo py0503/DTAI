{
 "cells": [
  {
   "cell_type": "code",
   "execution_count": 1,
   "metadata": {},
   "outputs": [
    {
     "name": "stdout",
     "output_type": "stream",
     "text": [
      "0821\n"
     ]
    }
   ],
   "source": [
    "print(\"0821\")"
   ]
  },
  {
   "cell_type": "code",
   "execution_count": 6,
   "metadata": {},
   "outputs": [
    {
     "name": "stdout",
     "output_type": "stream",
     "text": [
      "Ans 1234\n"
     ]
    }
   ],
   "source": [
    "#oj-21\n",
    "a = input()\n",
    "b = \"Ans\"\n",
    "c = b +\" \"+ a\n",
    "print(c)"
   ]
  },
  {
   "cell_type": "code",
   "execution_count": 13,
   "metadata": {},
   "outputs": [
    {
     "name": "stdout",
     "output_type": "stream",
     "text": [
      "38\n"
     ]
    }
   ],
   "source": [
    "#oj-22\n",
    "a = input().split()\n",
    "\n",
    "#將每個字串轉換為整數\n",
    "#map用於需要對序列中的每個元素進行相同操作\n",
    "a = map(int,a)\n",
    "\n",
    "b = sum(a)\n",
    "print(b)\n"
   ]
  },
  {
   "cell_type": "code",
   "execution_count": 22,
   "metadata": {},
   "outputs": [
    {
     "name": "stdout",
     "output_type": "stream",
     "text": [
      "16\n"
     ]
    }
   ],
   "source": [
    "#oj-23\n",
    "a = input()\n",
    "b = len(a)\n",
    "print(b) "
   ]
  },
  {
   "cell_type": "code",
   "execution_count": 26,
   "metadata": {},
   "outputs": [
    {
     "name": "stdout",
     "output_type": "stream",
     "text": [
      "165\n"
     ]
    }
   ],
   "source": [
    "#oj-24\n",
    "n = int(input())\n",
    "if n>=10:\n",
    "    sum_n = 0\n",
    "    for i in range(10,n+1):\n",
    "        sum_n +=i\n",
    "    print(sum_n)"
   ]
  },
  {
   "cell_type": "code",
   "execution_count": 38,
   "metadata": {},
   "outputs": [
    {
     "name": "stdout",
     "output_type": "stream",
     "text": [
      "3\n"
     ]
    }
   ],
   "source": [
    "#oj-5\n",
    "n = input().split()\n",
    "n1 = list(map(int,n))\n",
    "min_v= min(n1)\n",
    "print(min_v)"
   ]
  },
  {
   "cell_type": "code",
   "execution_count": null,
   "metadata": {},
   "outputs": [],
   "source": [
    "#oj-8"
   ]
  },
  {
   "cell_type": "code",
   "execution_count": null,
   "metadata": {},
   "outputs": [],
   "source": [
    "#oj-9"
   ]
  },
  {
   "cell_type": "code",
   "execution_count": 37,
   "metadata": {},
   "outputs": [
    {
     "name": "stdout",
     "output_type": "stream",
     "text": [
      "1\n",
      "12\n",
      "123\n",
      "1234\n",
      "12345\n"
     ]
    }
   ],
   "source": [
    "#oj-10\n",
    "a = int(input())\n",
    "b=0\n",
    "while b<a:\n",
    "    b+=1\n",
    "    for n in range(1,b+1):\n",
    "        print(n,end=\"\")\n",
    "    print(end='\\n')"
   ]
  },
  {
   "cell_type": "code",
   "execution_count": 36,
   "metadata": {},
   "outputs": [
    {
     "name": "stdout",
     "output_type": "stream",
     "text": [
      "Valid\n"
     ]
    }
   ],
   "source": [
    "#oj-14\n",
    "a,b,c=map(int, input().split())\n",
    "if a+b>c and a+c>b:\n",
    "    print(\"Valid\")\n",
    "else:\n",
    "    print(\"Invalid\")"
   ]
  },
  {
   "cell_type": "code",
   "execution_count": 34,
   "metadata": {},
   "outputs": [
    {
     "name": "stdout",
     "output_type": "stream",
     "text": [
      "2000 is leap year\n"
     ]
    }
   ],
   "source": [
    "#oj-18\n",
    "year = int(input())\n",
    "if year%4 == 0:\n",
    "    if year%100 == 0:\n",
    "        if year%400 == 0:\n",
    "            print(f'{year} is leap year')\n",
    "        else:\n",
    "            print(f'{year} is common year')\n",
    "    else:\n",
    "        print(f'{year} is leap year')\n",
    "else:\n",
    "    print(f'{year} is common year')"
   ]
  },
  {
   "cell_type": "code",
   "execution_count": 35,
   "metadata": {},
   "outputs": [
    {
     "name": "stdout",
     "output_type": "stream",
     "text": [
      "9*1=9 9*2=18 9*3=27 9*4=36 9*5=45 9*6=54 9*7=63 9*8=72 9*9=81 \n"
     ]
    }
   ],
   "source": [
    "#oj-19\n",
    "n = int(input())\n",
    "for i in range(n,10):\n",
    "    for j in range(1,10):\n",
    "        print('%d*%d=%d'%(i,j,i*j),end=\" \")\n",
    "    print()"
   ]
  },
  {
   "cell_type": "code",
   "execution_count": 29,
   "metadata": {},
   "outputs": [
    {
     "name": "stdout",
     "output_type": "stream",
     "text": [
      "Ans 9487\n"
     ]
    }
   ],
   "source": [
    "#oj-21\n",
    "a = input()\n",
    "b = \"Ans\"\n",
    "result = b +\" \"+a\n",
    "print(result)"
   ]
  },
  {
   "cell_type": "code",
   "execution_count": 28,
   "metadata": {},
   "outputs": [
    {
     "name": "stdout",
     "output_type": "stream",
     "text": [
      "21\n"
     ]
    }
   ],
   "source": [
    "#oj-22\n",
    "a = input().split()\n",
    "a = map(int,a)\n",
    "b = sum(a)\n",
    "print(b)"
   ]
  },
  {
   "cell_type": "code",
   "execution_count": 27,
   "metadata": {},
   "outputs": [
    {
     "name": "stdout",
     "output_type": "stream",
     "text": [
      "17\n"
     ]
    }
   ],
   "source": [
    "#oj-23\n",
    "a = input()\n",
    "b = len(a)\n",
    "print(b) "
   ]
  },
  {
   "cell_type": "code",
   "execution_count": 33,
   "metadata": {},
   "outputs": [
    {
     "name": "stdout",
     "output_type": "stream",
     "text": [
      "120 is error\n"
     ]
    }
   ],
   "source": [
    "#oj-26\n",
    "g = int(input())\n",
    "if 90<=g<=100:\n",
    "    print(g,'is A')\n",
    "elif 80<=g<=89:\n",
    "    print(g,'is B')\n",
    "elif 70<=g<=79:\n",
    "    print(g,'is C')\n",
    "elif 60<=g<=69:\n",
    "    print(g,'is D')\n",
    "elif 0<=g<=59:\n",
    "    print(g,'is E')\n",
    "else:\n",
    "    print(g,'is error')"
   ]
  },
  {
   "cell_type": "code",
   "execution_count": 41,
   "metadata": {},
   "outputs": [
    {
     "name": "stdout",
     "output_type": "stream",
     "text": [
      "no discount is 9999\n"
     ]
    }
   ],
   "source": [
    "#oj-29\n",
    "p = int(input())\n",
    "if p>=100000:\n",
    "    p1=p*0.8\n",
    "    print('80% discount is',p1)\n",
    "elif 50000<=p<=100000:\n",
    "    p2=p*0.85\n",
    "    print('85% discount is',p2)\n",
    "elif 30000<=p<=50000:\n",
    "    p3=p*0.90\n",
    "    print('90% discount is',p3)\n",
    "elif 10000<=p<=30000:\n",
    "    p4=p*0.95\n",
    "    print('95% discount is',p4)\n",
    "else:\n",
    "    p5=p+0\n",
    "    print('no discount is',p5)"
   ]
  },
  {
   "cell_type": "code",
   "execution_count": 45,
   "metadata": {},
   "outputs": [
    {
     "name": "stdout",
     "output_type": "stream",
     "text": [
      "0,5,10,15,20,25,30,35,40,45,50,55,60,65,70,75,80,85,90,95,"
     ]
    }
   ],
   "source": [
    "#oj-30\n",
    "a,b,c = map(int,input().split())\n",
    "for i in range(a,b,c):\n",
    "    print(i,end=\",\")\n",
    "\n",
    "#oj-30-2\n",
    "a,b,c = input().split()\n",
    "a1 = int(a)\n",
    "b1 = int(b)\n",
    "c1 = int(c)\n",
    "for i in range(a1,b1,c1):\n",
    "    print(i,end=\",\")"
   ]
  },
  {
   "cell_type": "code",
   "execution_count": 47,
   "metadata": {},
   "outputs": [
    {
     "name": "stdout",
     "output_type": "stream",
     "text": [
      "[3, 4, 5, 6, 7]\n"
     ]
    }
   ],
   "source": [
    "#oj-32\n",
    "a,b,c = map(int,input().split())\n",
    "n = range(a,b,c)\n",
    "print(list(n))"
   ]
  },
  {
   "cell_type": "code",
   "execution_count": 50,
   "metadata": {},
   "outputs": [
    {
     "name": "stdout",
     "output_type": "stream",
     "text": [
      "Valid\n"
     ]
    }
   ],
   "source": [
    "#oj-33\n",
    "a,b,c = map(int,input().split())\n",
    "if a==b or b==c or a==c:\n",
    "    print('Valid')\n",
    "else:\n",
    "    print('Invalid')"
   ]
  },
  {
   "cell_type": "code",
   "execution_count": 72,
   "metadata": {},
   "outputs": [
    {
     "name": "stdout",
     "output_type": "stream",
     "text": [
      "park time: 11 h : 9 m\n",
      "pay: 300 money\n"
     ]
    }
   ],
   "source": [
    "#oj-34\n",
    "m = int(input())\n",
    "if m<=60:\n",
    "    print('park time:',':',m,'m')\n",
    "    print('pay:',20,'money',sep=' ')\n",
    "elif 61<=m<=420:\n",
    "    h=m//60\n",
    "    m1=m-h*60\n",
    "    print('park time:',h,'h',':',m1,'m')\n",
    "    print('pay:',20+(40*h),'money',sep=' ')\n",
    "else:\n",
    "    h=m//60\n",
    "    m1=m-h*60\n",
    "    print('park time:',h,'h',':',m1,'m')\n",
    "    print('pay:',300,'money',sep=' ')\n"
   ]
  },
  {
   "cell_type": "code",
   "execution_count": null,
   "metadata": {},
   "outputs": [],
   "source": [
    "#oj-35"
   ]
  },
  {
   "cell_type": "code",
   "execution_count": null,
   "metadata": {},
   "outputs": [],
   "source": [
    "#oj-40"
   ]
  },
  {
   "cell_type": "code",
   "execution_count": null,
   "metadata": {},
   "outputs": [],
   "source": [
    "#oj-41"
   ]
  },
  {
   "cell_type": "code",
   "execution_count": null,
   "metadata": {},
   "outputs": [],
   "source": [
    "#oj-43"
   ]
  },
  {
   "cell_type": "code",
   "execution_count": null,
   "metadata": {},
   "outputs": [],
   "source": []
  }
 ],
 "metadata": {
  "kernelspec": {
   "display_name": "Python 3",
   "language": "python",
   "name": "python3"
  },
  "language_info": {
   "codemirror_mode": {
    "name": "ipython",
    "version": 3
   },
   "file_extension": ".py",
   "mimetype": "text/x-python",
   "name": "python",
   "nbconvert_exporter": "python",
   "pygments_lexer": "ipython3",
   "version": "3.12.4"
  }
 },
 "nbformat": 4,
 "nbformat_minor": 2
}
