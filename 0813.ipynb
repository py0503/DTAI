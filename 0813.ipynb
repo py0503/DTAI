{
 "cells": [
  {
   "cell_type": "code",
   "execution_count": 1,
   "metadata": {},
   "outputs": [
    {
     "name": "stdout",
     "output_type": "stream",
     "text": [
      "0813\n"
     ]
    }
   ],
   "source": [
    "print(\"0813\")"
   ]
  },
  {
   "cell_type": "code",
   "execution_count": 13,
   "metadata": {},
   "outputs": [
    {
     "name": "stdout",
     "output_type": "stream",
     "text": [
      "密碼正確\n",
      "歡迎光臨!\n"
     ]
    }
   ],
   "source": [
    "密碼 = int(input(\"請輸入密碼:\"))\n",
    "if 密碼==1234:\n",
    "   print(\"密碼正確\")\n",
    "   print(\"歡迎光臨!\")\n",
    "else:\n",
    "    print(\"密碼錯誤\") "
   ]
  },
  {
   "cell_type": "code",
   "execution_count": 12,
   "metadata": {},
   "outputs": [
    {
     "name": "stdout",
     "output_type": "stream",
     "text": [
      "不用帶傘\n"
     ]
    }
   ],
   "source": [
    "rain = input(\"今天會下雨嗎?\")\n",
    "if rain==\"Y\" or rain==\"y\" :\n",
    "    print(\"出門記得帶傘!\")\n",
    "else:\n",
    "    print(\"不用帶傘\")"
   ]
  },
  {
   "cell_type": "code",
   "execution_count": 16,
   "metadata": {},
   "outputs": [
    {
     "name": "stdout",
     "output_type": "stream",
     "text": [
      "你輸入的數字是奇數\n"
     ]
    }
   ],
   "source": [
    "偶數判斷 = int(input(\"請輸入一個整數\"))\n",
    "if 偶數判斷%2 == 0:\n",
    "    print(\"你輸入的數字是偶數\")\n",
    "else:\n",
    "    print(\"你輸入的數字是奇數\")\n",
    "# %是求餘數"
   ]
  },
  {
   "cell_type": "code",
   "execution_count": 23,
   "metadata": {},
   "outputs": [
    {
     "name": "stdout",
     "output_type": "stream",
     "text": [
      "體溫異常，請重新測量\n"
     ]
    }
   ],
   "source": [
    "體溫判斷 = float(input(\"請輸入體溫\"))\n",
    "if 體溫判斷 >=37.5:\n",
    "    print(\"體溫過高\")\n",
    "elif 37<=體溫判斷<=37.4:\n",
    "    print(\"體溫略高\")\n",
    "elif 34<=體溫判斷 <=36.9:\n",
    "    print(\"體溫正常\")\n",
    "else:\n",
    "    print(\"體溫異常，請重新測量\")"
   ]
  },
  {
   "cell_type": "code",
   "execution_count": 26,
   "metadata": {},
   "outputs": [
    {
     "name": "stdout",
     "output_type": "stream",
     "text": [
      "B\n"
     ]
    }
   ],
   "source": [
    "成績 = int(input(\"請輸入成績\"))\n",
    "if 成績>=90:\n",
    "    print(\"A\")\n",
    "elif 80<=成績<=89:\n",
    "    print(\"B\")\n",
    "elif 70<=成績<=79:\n",
    "    print(\"C\")\n",
    "elif 60<=成績<=69:\n",
    "    print(\"D\")\n",
    "else:\n",
    "    print(\"E\")"
   ]
  },
  {
   "cell_type": "code",
   "execution_count": 32,
   "metadata": {},
   "outputs": [
    {
     "name": "stdout",
     "output_type": "stream",
     "text": [
      "100\n"
     ]
    }
   ],
   "source": [
    "#題目1\n",
    "金額 = int(input(\"請輸入金額)\"))\n",
    "if 金額>=1000:\n",
    "    print(金額*0.8)\n",
    "elif 500<=金額<=1000:\n",
    "    print(金額*0.9)\n",
    "else:\n",
    "    print(金額)"
   ]
  },
  {
   "cell_type": "code",
   "execution_count": 35,
   "metadata": {},
   "outputs": [
    {
     "name": "stdout",
     "output_type": "stream",
     "text": [
      "需要立即加油!\n"
     ]
    }
   ],
   "source": [
    "#題目2\n",
    "油量 = int(input(\"請輸入油量\"))\n",
    "if 油量<=5:\n",
    "    print(\"需要立即加油!\")\n",
    "elif 5<=油量<=10:\n",
    "    print(\"油量不足，建議加油\")\n",
    "else:\n",
    "    print(\"油量充足\")"
   ]
  },
  {
   "cell_type": "code",
   "execution_count": 39,
   "metadata": {},
   "outputs": [
    {
     "name": "stdout",
     "output_type": "stream",
     "text": [
      "4950\n"
     ]
    }
   ],
   "source": [
    "#題目3\n",
    "金額 = int(input(\"請輸入金額\"))\n",
    "if 金額>=10000:\n",
    "    print(金額)\n",
    "elif 5000<=金額<=10000:\n",
    "    print(金額-50)\n",
    "elif 1000<=金額<=5000:\n",
    "    print(金額-100)\n",
    "else:\n",
    "    print(金額-150)"
   ]
  },
  {
   "cell_type": "code",
   "execution_count": null,
   "metadata": {},
   "outputs": [],
   "source": []
  }
 ],
 "metadata": {
  "kernelspec": {
   "display_name": "Python 3",
   "language": "python",
   "name": "python3"
  },
  "language_info": {
   "codemirror_mode": {
    "name": "ipython",
    "version": 3
   },
   "file_extension": ".py",
   "mimetype": "text/x-python",
   "name": "python",
   "nbconvert_exporter": "python",
   "pygments_lexer": "ipython3",
   "version": "3.12.4"
  }
 },
 "nbformat": 4,
 "nbformat_minor": 2
}
